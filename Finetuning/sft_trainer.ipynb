{
 "cells": [
  {
   "cell_type": "markdown",
   "id": "61221b81",
   "metadata": {},
   "source": [
    "### Installing and importing prerequisites:"
   ]
  },
  {
   "cell_type": "code",
   "execution_count": null,
   "id": "04c18cfd",
   "metadata": {
    "execution": {
     "iopub.execute_input": "2024-04-12T19:06:37.978591Z",
     "iopub.status.busy": "2024-04-12T19:06:37.978136Z",
     "iopub.status.idle": "2024-04-12T19:07:40.900297Z",
     "shell.execute_reply": "2024-04-12T19:07:40.898792Z"
    },
    "papermill": {
     "duration": 62.934809,
     "end_time": "2024-04-12T19:07:40.902834",
     "exception": false,
     "start_time": "2024-04-12T19:06:37.968025",
     "status": "completed"
    },
    "tags": []
   },
   "outputs": [],
   "source": [
    "%pip install atomInSmiles\n",
    "%pip uninstall pandas -y\n",
    "%pip install pandas==1.5.3\n",
    "%pip install molsets==0.1.0\n"
   ]
  },
  {
   "cell_type": "code",
   "execution_count": 2,
   "id": "98e912c4",
   "metadata": {
    "execution": {
     "iopub.execute_input": "2024-04-12T19:07:40.933970Z",
     "iopub.status.busy": "2024-04-12T19:07:40.933272Z",
     "iopub.status.idle": "2024-04-12T19:07:59.463131Z",
     "shell.execute_reply": "2024-04-12T19:07:59.462259Z"
    },
    "id": "lDx5ruYYndV0",
    "outputId": "5d6b7589-d547-45b5-ef7f-55f2b3b594bd",
    "papermill": {
     "duration": 18.547754,
     "end_time": "2024-04-12T19:07:59.465582",
     "exception": false,
     "start_time": "2024-04-12T19:07:40.917828",
     "status": "completed"
    },
    "tags": []
   },
   "outputs": [
    {
     "name": "stderr",
     "output_type": "stream",
     "text": [
      "/opt/conda/lib/python3.10/site-packages/moses/metrics/utils.py:24: FutureWarning: The frame.append method is deprecated and will be removed from pandas in a future version. Use pandas.concat instead.\n",
      "  _mcf.append(_pains, sort=True)['smarts'].values]\n",
      "2024-04-12 19:07:51.197290: E external/local_xla/xla/stream_executor/cuda/cuda_dnn.cc:9261] Unable to register cuDNN factory: Attempting to register factory for plugin cuDNN when one has already been registered\n",
      "2024-04-12 19:07:51.197390: E external/local_xla/xla/stream_executor/cuda/cuda_fft.cc:607] Unable to register cuFFT factory: Attempting to register factory for plugin cuFFT when one has already been registered\n",
      "2024-04-12 19:07:51.321545: E external/local_xla/xla/stream_executor/cuda/cuda_blas.cc:1515] Unable to register cuBLAS factory: Attempting to register factory for plugin cuBLAS when one has already been registered\n"
     ]
    }
   ],
   "source": [
    "from moses import metrics\n",
    "import atomInSmiles as AIS\n",
    "import pandas as pd # data processing, CSV file I/O (e.g. pd.read_csv)\n",
    "import os\n",
    "import copy\n",
    "import json\n",
    "import os\n",
    "from pathlib import Path\n",
    "from typing import Dict, List, Optional, Sequence, Union\n",
    "from transformers.tokenization_utils import AddedToken, PreTrainedTokenizer\n",
    "import collections\n",
    "import torch\n",
    "from transformers import AutoTokenizer, AutoModelForCausalLM , AutoConfig\n",
    "from datasets import load_dataset\n",
    "from datasets import DatasetDict\n",
    "import datasets\n",
    "from transformers import DataCollatorForLanguageModeling \n",
    "from huggingface_hub.hf_api import HfFolder\n",
    "from AISTokenizer import AISTokenizer\n"
   ]
  },
  {
   "cell_type": "code",
   "execution_count": 3,
   "id": "69195452",
   "metadata": {
    "execution": {
     "iopub.execute_input": "2024-04-12T19:07:59.499101Z",
     "iopub.status.busy": "2024-04-12T19:07:59.498516Z",
     "iopub.status.idle": "2024-04-12T19:07:59.522249Z",
     "shell.execute_reply": "2024-04-12T19:07:59.521256Z"
    },
    "id": "qG2GgX8vBdqf",
    "papermill": {
     "duration": 0.043208,
     "end_time": "2024-04-12T19:07:59.524425",
     "exception": false,
     "start_time": "2024-04-12T19:07:59.481217",
     "status": "completed"
    },
    "tags": []
   },
   "outputs": [],
   "source": []
  },
  {
   "cell_type": "code",
   "execution_count": 4,
   "id": "51ca0fa3",
   "metadata": {
    "execution": {
     "iopub.execute_input": "2024-04-12T19:07:59.557883Z",
     "iopub.status.busy": "2024-04-12T19:07:59.557560Z",
     "iopub.status.idle": "2024-04-12T19:07:59.579809Z",
     "shell.execute_reply": "2024-04-12T19:07:59.578993Z"
    },
    "papermill": {
     "duration": 0.041386,
     "end_time": "2024-04-12T19:07:59.581946",
     "exception": false,
     "start_time": "2024-04-12T19:07:59.540560",
     "status": "completed"
    },
    "tags": []
   },
   "outputs": [],
   "source": [
    "vocabfile = \"/kaggle/input/dpotest2/vocab(2).txt\" \n",
    "context_length = 72\n",
    "tokenizer = AISTokenizer(vocabfile,context_length)"
   ]
  },
  {
   "cell_type": "markdown",
   "id": "9feeb468",
   "metadata": {},
   "source": [
    "### Load and encode the finetuning dataset"
   ]
  },
  {
   "cell_type": "code",
   "execution_count": 5,
   "id": "6d3a91ad",
   "metadata": {
    "execution": {
     "iopub.execute_input": "2024-04-12T19:07:59.615268Z",
     "iopub.status.busy": "2024-04-12T19:07:59.614932Z",
     "iopub.status.idle": "2024-04-12T19:09:34.794068Z",
     "shell.execute_reply": "2024-04-12T19:09:34.792789Z"
    },
    "id": "VxWPgWW5pEBj",
    "outputId": "0848975e-feac-4065-b7ff-955273425bf9",
    "papermill": {
     "duration": 95.199558,
     "end_time": "2024-04-12T19:09:34.797450",
     "exception": false,
     "start_time": "2024-04-12T19:07:59.597892",
     "status": "completed"
    },
    "tags": []
   },
   "outputs": [],
   "source": [
    "import json\n",
    "from datasets import Dataset\n",
    "# Deserialize our data\n",
    "with open(\"/kaggle/input/dpotest2/unique_pairs_cpu_optimized.json\", \"r\") as file:\n",
    "    data = json.load(file)\n",
    "\n",
    "dataset_dict = {'text': []}\n",
    "\n",
    "for pair in data:\n",
    "    dataset_dict.setdefault('text', []).append(AIS.encode(pair[0]))\n",
    "    dataset_dict.setdefault('text', []).append(AIS.encode(pair[1]))\n",
    "\n",
    "\n"
   ]
  },
  {
   "cell_type": "code",
   "execution_count": 6,
   "id": "74d9b8ed",
   "metadata": {
    "execution": {
     "iopub.execute_input": "2024-04-12T19:09:34.847227Z",
     "iopub.status.busy": "2024-04-12T19:09:34.846710Z",
     "iopub.status.idle": "2024-04-12T19:09:34.967340Z",
     "shell.execute_reply": "2024-04-12T19:09:34.966252Z"
    },
    "papermill": {
     "duration": 0.148312,
     "end_time": "2024-04-12T19:09:34.970022",
     "exception": false,
     "start_time": "2024-04-12T19:09:34.821710",
     "status": "completed"
    },
    "tags": []
   },
   "outputs": [],
   "source": [
    "#Load in the datasets and convert to memory-mapped for efficiency reasons\n",
    "train_dataset = Dataset.from_dict(dataset_dict).shuffle()\n"
   ]
  },
  {
   "cell_type": "code",
   "execution_count": 7,
   "id": "c21274de",
   "metadata": {
    "execution": {
     "iopub.execute_input": "2024-04-12T19:09:35.002665Z",
     "iopub.status.busy": "2024-04-12T19:09:35.002348Z",
     "iopub.status.idle": "2024-04-12T19:09:35.009504Z",
     "shell.execute_reply": "2024-04-12T19:09:35.008498Z"
    },
    "papermill": {
     "duration": 0.026088,
     "end_time": "2024-04-12T19:09:35.012040",
     "exception": false,
     "start_time": "2024-04-12T19:09:34.985952",
     "status": "completed"
    },
    "tags": []
   },
   "outputs": [
    {
     "data": {
      "text/plain": [
       "Dataset({\n",
       "    features: ['text'],\n",
       "    num_rows: 56810\n",
       "})"
      ]
     },
     "execution_count": 7,
     "metadata": {},
     "output_type": "execute_result"
    }
   ],
   "source": [
    "train_dataset"
   ]
  },
  {
   "cell_type": "code",
   "execution_count": 8,
   "id": "43277fb7",
   "metadata": {
    "execution": {
     "iopub.execute_input": "2024-04-12T19:09:35.044286Z",
     "iopub.status.busy": "2024-04-12T19:09:35.043585Z",
     "iopub.status.idle": "2024-04-12T19:09:35.051413Z",
     "shell.execute_reply": "2024-04-12T19:09:35.050524Z"
    },
    "papermill": {
     "duration": 0.026292,
     "end_time": "2024-04-12T19:09:35.053448",
     "exception": false,
     "start_time": "2024-04-12T19:09:35.027156",
     "status": "completed"
    },
    "tags": []
   },
   "outputs": [],
   "source": [
    "# README:\n",
    "# Wrapper around the tokenizer that concatenates samples in each dataset mapping batch. So say it's performing a mapping (which we specified\n",
    "# as mapping this function) on a batch of the dataset. It will take every sample in the batch, concatenate them to one long string, then split\n",
    "# that up into chunks of context_length. This effectively packs the samples, most of which are smaller than context_length, into a tighter\n",
    "# representation which makes training more efficient (otherwise there would be hella padding). It also lets the model learn where the end of\n",
    "# sentence will be as we use EOS token between columns. \n",
    "def tokenize(element):      \n",
    "    # Remove token_type_ids and attention_mask columns\n",
    "    input_ids = tokenizer(element[\"text\"])['input_ids']\n",
    "\n",
    "\n",
    "    # Concatenate input_ids up to max_length\n",
    "    concatenated_ids = [token for sublist in input_ids for token in sublist]\n",
    "    # Split concatenated string into batches\n",
    "    batch_list = [concatenated_ids[i:i+context_length] for i in range(0, len(concatenated_ids), context_length)]\n",
    "    # Return processed output\n",
    "    return {'input_ids': batch_list} # Remove token_type_ids and attention_mask columns\n"
   ]
  },
  {
   "cell_type": "code",
   "execution_count": 9,
   "id": "fd2b64db",
   "metadata": {
    "execution": {
     "iopub.execute_input": "2024-04-12T19:09:35.085858Z",
     "iopub.status.busy": "2024-04-12T19:09:35.085165Z",
     "iopub.status.idle": "2024-04-12T19:09:52.783494Z",
     "shell.execute_reply": "2024-04-12T19:09:52.782545Z"
    },
    "papermill": {
     "duration": 17.716981,
     "end_time": "2024-04-12T19:09:52.785491",
     "exception": false,
     "start_time": "2024-04-12T19:09:35.068510",
     "status": "completed"
    },
    "tags": []
   },
   "outputs": [
    {
     "data": {
      "application/vnd.jupyter.widget-view+json": {
       "model_id": "271f48780ec2485c9569a1dd8a2a3739",
       "version_major": 2,
       "version_minor": 0
      },
      "text/plain": [
       "  0%|          | 0/57 [00:00<?, ?ba/s]"
      ]
     },
     "metadata": {},
     "output_type": "display_data"
    }
   ],
   "source": [
    "t_dataset = train_dataset.map(tokenize,batched=True,remove_columns=[\"text\"])"
   ]
  },
  {
   "cell_type": "markdown",
   "id": "4e098882",
   "metadata": {},
   "source": [
    "### Define a function to benchmark each combo of hyperparameters' resultant model "
   ]
  },
  {
   "cell_type": "code",
   "execution_count": 10,
   "id": "93e3cd77",
   "metadata": {
    "execution": {
     "iopub.execute_input": "2024-04-12T19:09:52.817173Z",
     "iopub.status.busy": "2024-04-12T19:09:52.816856Z",
     "iopub.status.idle": "2024-04-12T19:09:52.839092Z",
     "shell.execute_reply": "2024-04-12T19:09:52.838208Z"
    },
    "id": "jx66OGzzTTMJ",
    "outputId": "18609dd0-8b3d-4c19-cd25-aa234f4d8e73",
    "papermill": {
     "duration": 0.039814,
     "end_time": "2024-04-12T19:09:52.840973",
     "exception": false,
     "start_time": "2024-04-12T19:09:52.801159",
     "status": "completed"
    },
    "tags": []
   },
   "outputs": [],
   "source": [
    "# Make a set of every molecule in the dataset to compare novelty against\n",
    "allgenerated = set()\n",
    "for line in data:\n",
    "    allgenerated.add(line[0])\n",
    "    allgenerated.add(line[1])\n",
    "from moses import metrics\n",
    "\n",
    "def calc_unique(test_model):\n",
    "    samples = []\n",
    "    novelty = []\n",
    "    for _ in range(250):\n",
    "        # Note: model.generate includes the leading/trailing EOS tokens, so we have to remove them ourselves with [1:-1]\n",
    "        decoded = AIS.decode(tokenizer.decode(test_model.generate(max_new_tokens=72,do_sample=True, temperature=0.5)[0][1:-1]))\n",
    "        samples.append(decoded)\n",
    "        if decoded not in allgenerated:\n",
    "            novelty.append(decoded)\n",
    "    # Calculate samples uniqueness\n",
    "    unique_elements = set(samples)\n",
    "    novel_elements = set(novelty)\n",
    "    uniqueness_percentage = (len(unique_elements) / len(samples)) * 100\n",
    "    novelty_percentage = (len(novel_elements) / len(samples)) * 100\n",
    "    intdiv = metrics.internal_diversity(samples)\n",
    "    return uniqueness_percentage, novelty_percentage, unique_elements, intdiv"
   ]
  },
  {
   "cell_type": "code",
   "execution_count": 11,
   "id": "143e8635",
   "metadata": {
    "execution": {
     "iopub.execute_input": "2024-04-12T19:09:52.871120Z",
     "iopub.status.busy": "2024-04-12T19:09:52.870814Z",
     "iopub.status.idle": "2024-04-12T19:09:52.875120Z",
     "shell.execute_reply": "2024-04-12T19:09:52.874245Z"
    },
    "papermill": {
     "duration": 0.021674,
     "end_time": "2024-04-12T19:09:52.877243",
     "exception": false,
     "start_time": "2024-04-12T19:09:52.855569",
     "status": "completed"
    },
    "tags": []
   },
   "outputs": [],
   "source": [
    "\n",
    "# This makes our attention masks and labels for us for each batch. Note, do NOT set pad_token to eos_token like many guides to, \n",
    "# this will cause the data_collator to set the label for the eos_token to -100 which leads to it being ignored in loss calculation and\n",
    "# giving us a model that only knows how to yap and not to send a sequence.\n",
    "data_collator = DataCollatorForLanguageModeling (tokenizer,mlm=False)"
   ]
  },
  {
   "cell_type": "code",
   "execution_count": 12,
   "id": "c92cc0f3",
   "metadata": {
    "execution": {
     "iopub.execute_input": "2024-04-12T19:09:52.908022Z",
     "iopub.status.busy": "2024-04-12T19:09:52.907731Z",
     "iopub.status.idle": "2024-04-12T19:09:52.965973Z",
     "shell.execute_reply": "2024-04-12T19:09:52.965028Z"
    },
    "papermill": {
     "duration": 0.076632,
     "end_time": "2024-04-12T19:09:52.968148",
     "exception": false,
     "start_time": "2024-04-12T19:09:52.891516",
     "status": "completed"
    },
    "tags": []
   },
   "outputs": [
    {
     "data": {
      "text/plain": [
       "{'input_ids': tensor([[   0,  511,   15,  211,    7,  270,  829,    3,  505, 1083,    8, 1130,\n",
       "         1130, 1130, 1082,    3,  474,  103,    3,   15,  511,    4, 1078,    9,\n",
       "         1130, 1130, 1130, 1082,   10, 1147, 1096,    3,  308,    3,  387,    4,\n",
       "          387,    4, 1160, 1082,    9,   10,    4, 1130,    8,    4,  495,    7,\n",
       "            0,  511,   15,  103,    3,  818,    7,  270,  167,    7,    8,  270,\n",
       "          270,  270,    8,    4,  431,    7,  271,  270,  270,  884,    8,    3],\n",
       "        [ 270,  271,  431,    3, 1096,    9, 1130, 1130, 1130, 1090,    3,  387,\n",
       "            4, 1147,    9,    4,  271,    8,    4,  271,    7,    0,  286,  240,\n",
       "          240,  240,  244,  474,  103,    3,   15,  511,    4,  103,    3,   15,\n",
       "          511,    4,  474,  794,    3,  286,    4,  240,  240,  295,    3,  286,\n",
       "            4,  286,    0,  286,  240, 1082,    7, 1078,    3,  103,    3,   15,\n",
       "          511,    4,  474,  822,    8,  270,  270,  271,  431,    3, 1096,    9]]), 'attention_mask': tensor([[1, 1, 1, 1, 1, 1, 1, 1, 1, 1, 1, 1, 1, 1, 1, 1, 1, 1, 1, 1, 1, 1, 1, 1,\n",
       "         1, 1, 1, 1, 1, 1, 1, 1, 1, 1, 1, 1, 1, 1, 1, 1, 1, 1, 1, 1, 1, 1, 1, 1,\n",
       "         1, 1, 1, 1, 1, 1, 1, 1, 1, 1, 1, 1, 1, 1, 1, 1, 1, 1, 1, 1, 1, 1, 1, 1],\n",
       "        [1, 1, 1, 1, 1, 1, 1, 1, 1, 1, 1, 1, 1, 1, 1, 1, 1, 1, 1, 1, 1, 1, 1, 1,\n",
       "         1, 1, 1, 1, 1, 1, 1, 1, 1, 1, 1, 1, 1, 1, 1, 1, 1, 1, 1, 1, 1, 1, 1, 1,\n",
       "         1, 1, 1, 1, 1, 1, 1, 1, 1, 1, 1, 1, 1, 1, 1, 1, 1, 1, 1, 1, 1, 1, 1, 1]]), 'labels': tensor([[   0,  511,   15,  211,    7,  270,  829,    3,  505, 1083,    8, 1130,\n",
       "         1130, 1130, 1082,    3,  474,  103,    3,   15,  511,    4, 1078,    9,\n",
       "         1130, 1130, 1130, 1082,   10, 1147, 1096,    3,  308,    3,  387,    4,\n",
       "          387,    4, 1160, 1082,    9,   10,    4, 1130,    8,    4,  495,    7,\n",
       "            0,  511,   15,  103,    3,  818,    7,  270,  167,    7,    8,  270,\n",
       "          270,  270,    8,    4,  431,    7,  271,  270,  270,  884,    8,    3],\n",
       "        [ 270,  271,  431,    3, 1096,    9, 1130, 1130, 1130, 1090,    3,  387,\n",
       "            4, 1147,    9,    4,  271,    8,    4,  271,    7,    0,  286,  240,\n",
       "          240,  240,  244,  474,  103,    3,   15,  511,    4,  103,    3,   15,\n",
       "          511,    4,  474,  794,    3,  286,    4,  240,  240,  295,    3,  286,\n",
       "            4,  286,    0,  286,  240, 1082,    7, 1078,    3,  103,    3,   15,\n",
       "          511,    4,  474,  822,    8,  270,  270,  271,  431,    3, 1096,    9]])}"
      ]
     },
     "execution_count": 12,
     "metadata": {},
     "output_type": "execute_result"
    }
   ],
   "source": [
    "# Sanity check. Note, the datasets are iterable so you have to wrap them in iter if you want to examine them. You cannot index them with [].\n",
    "it = iter(t_dataset)\n",
    "test = data_collator([next(it) for _ in range(2)])\n",
    "test"
   ]
  },
  {
   "cell_type": "markdown",
   "id": "123f74f7",
   "metadata": {},
   "source": [
    "### Train!"
   ]
  },
  {
   "cell_type": "code",
   "execution_count": 13,
   "id": "c399bec3",
   "metadata": {
    "execution": {
     "iopub.execute_input": "2024-04-12T19:09:52.999205Z",
     "iopub.status.busy": "2024-04-12T19:09:52.998907Z",
     "iopub.status.idle": "2024-04-12T20:21:11.855516Z",
     "shell.execute_reply": "2024-04-12T20:21:11.854354Z"
    },
    "papermill": {
     "duration": 4278.897463,
     "end_time": "2024-04-12T20:21:11.880130",
     "exception": false,
     "start_time": "2024-04-12T19:09:52.982667",
     "status": "completed"
    },
    "tags": []
   },
   "outputs": [
    {
     "data": {
      "application/vnd.jupyter.widget-view+json": {
       "model_id": "ec12155143654561b572a2417fe6102b",
       "version_major": 2,
       "version_minor": 0
      },
      "text/plain": [
       "config.json:   0%|          | 0.00/634 [00:00<?, ?B/s]"
      ]
     },
     "metadata": {},
     "output_type": "display_data"
    },
    {
     "data": {
      "application/vnd.jupyter.widget-view+json": {
       "model_id": "1c305785db984b248034eea083c99493",
       "version_major": 2,
       "version_minor": 0
      },
      "text/plain": [
       "model.safetensors:   0%|          | 0.00/69.8M [00:00<?, ?B/s]"
      ]
     },
     "metadata": {},
     "output_type": "display_data"
    },
    {
     "name": "stderr",
     "output_type": "stream",
     "text": [
      "/opt/conda/lib/python3.10/site-packages/accelerate/accelerator.py:432: FutureWarning: Passing the following arguments to `Accelerator` is deprecated and will be removed in version 1.0 of Accelerate: dict_keys(['dispatch_batches', 'split_batches', 'even_batches', 'use_seedable_sampler']). Please pass an `accelerate.DataLoaderConfiguration` instead: \n",
      "dataloader_config = DataLoaderConfiguration(dispatch_batches=None, split_batches=False, even_batches=True, use_seedable_sampler=True)\n",
      "  warnings.warn(\n",
      "/opt/conda/lib/python3.10/site-packages/torch/nn/parallel/_functions.py:68: UserWarning: Was asked to gather along dimension 0, but all input tensors were scalars; will instead unsqueeze and return a vector.\n",
      "  warnings.warn('Was asked to gather along dimension 0, but all '\n"
     ]
    },
    {
     "name": "stdout",
     "output_type": "stream",
     "text": [
      "{'train_runtime': 107.7398, 'train_samples_per_second': 293.169, 'train_steps_per_second': 1.151, 'train_loss': 0.6257256538637223, 'epoch': 1.0}\n",
      "finished a tuning\n",
      "{'train_runtime': 108.5611, 'train_samples_per_second': 290.951, 'train_steps_per_second': 1.142, 'train_loss': 0.6318123725152784, 'epoch': 1.0}\n",
      "finished a tuning\n",
      "{'train_runtime': 108.4449, 'train_samples_per_second': 291.263, 'train_steps_per_second': 1.143, 'train_loss': 0.646789058562248, 'epoch': 1.0}\n",
      "finished a tuning\n",
      "{'train_runtime': 108.5211, 'train_samples_per_second': 291.059, 'train_steps_per_second': 1.143, 'train_loss': 0.686693130000945, 'epoch': 1.0}\n",
      "finished a tuning\n",
      "{'train_runtime': 216.5225, 'train_samples_per_second': 291.757, 'train_steps_per_second': 1.145, 'train_loss': 0.6115672819076046, 'epoch': 2.0}\n",
      "finished a tuning\n",
      "{'train_runtime': 216.1577, 'train_samples_per_second': 292.25, 'train_steps_per_second': 1.147, 'train_loss': 0.6118397866525958, 'epoch': 2.0}\n",
      "finished a tuning\n",
      "{'train_runtime': 216.3802, 'train_samples_per_second': 291.949, 'train_steps_per_second': 1.146, 'train_loss': 0.6214221216017201, 'epoch': 2.0}\n",
      "finished a tuning\n",
      "{'train_runtime': 216.1685, 'train_samples_per_second': 292.235, 'train_steps_per_second': 1.147, 'train_loss': 0.6524586831369708, 'epoch': 2.0}\n",
      "finished a tuning\n",
      "{'train_runtime': 324.4069, 'train_samples_per_second': 292.096, 'train_steps_per_second': 1.147, 'train_loss': 0.6006770390336231, 'epoch': 3.0}\n",
      "finished a tuning\n",
      "{'train_runtime': 324.3333, 'train_samples_per_second': 292.162, 'train_steps_per_second': 1.147, 'train_loss': 0.5957666622695102, 'epoch': 3.0}\n"
     ]
    },
    {
     "name": "stderr",
     "output_type": "stream",
     "text": [
      "[20:05:37] Can't kekulize mol.  Unkekulized atoms: 12 13 14 16 18 19 20 21 22\n"
     ]
    },
    {
     "name": "stdout",
     "output_type": "stream",
     "text": [
      "finished a tuning\n",
      "{'train_runtime': 324.1062, 'train_samples_per_second': 292.367, 'train_steps_per_second': 1.148, 'train_loss': 0.6029669238675025, 'epoch': 3.0}\n"
     ]
    },
    {
     "name": "stderr",
     "output_type": "stream",
     "text": [
      "[20:13:24] Can't kekulize mol.  Unkekulized atoms: 22 23 24 25 28\n"
     ]
    },
    {
     "name": "stdout",
     "output_type": "stream",
     "text": [
      "finished a tuning\n",
      "{'train_runtime': 323.9606, 'train_samples_per_second': 292.499, 'train_steps_per_second': 1.148, 'train_loss': 0.6306084663637223, 'epoch': 3.0}\n",
      "finished a tuning\n"
     ]
    },
    {
     "name": "stderr",
     "output_type": "stream",
     "text": [
      "[20:21:11] SMILES Parse Error: unclosed ring for input: 'Cc1cccc(-c2cccc(CNC(=O)c3ccc4c(=O)n5c(nc4c3)CCC4)c2)c1'\n"
     ]
    }
   ],
   "source": [
    "from transformers import Trainer, TrainingArguments\n",
    "from transformers.utils import logging\n",
    "logging.set_verbosity_error()\n",
    "\n",
    "\n",
    "\n",
    "epochs = [1, 2, 3]\n",
    "lrs = [1e-4, 3e-4, 5e-4, 1e-3]\n",
    "\n",
    "for epoch in epochs:\n",
    "        for lr in lrs:\n",
    "            model = AutoModelForCausalLM.from_pretrained(\n",
    "                \"victornica/AIS_3\", # location of saved SFT model\n",
    "            )\n",
    "            model_ref = AutoModelForCausalLM.from_pretrained(\n",
    "                \"victornica/AIS_3\", # location of saved SFT model\n",
    "            )\n",
    "            args = TrainingArguments(\n",
    "                output_dir=\"/kaggle/working/sft\",\n",
    "                per_device_train_batch_size=128,\n",
    "                per_device_eval_batch_size=128,\n",
    "                num_train_epochs=epoch,\n",
    "                weight_decay=0.1,\n",
    "                learning_rate=lr,\n",
    "                lr_scheduler_type=\"linear\",\n",
    "                report_to=\"none\"\n",
    "            )\n",
    "            trainer = Trainer(\n",
    "                model=model,\n",
    "                tokenizer=tokenizer,\n",
    "                args=args,\n",
    "                data_collator=data_collator,\n",
    "                train_dataset=t_dataset\n",
    "            )\n",
    "\n",
    "            trainer.train()\n",
    "\n",
    "            uniqueness, novelty, unique_elems, intdiv = calc_unique(model)\n",
    "            if uniqueness >= 98:\n",
    "                file = open(f\"{epoch}-{lr}-{uniqueness}-{novelty}-{intdiv}.txt\", \"w\")\n",
    "                file.write(f\"{unique_elems}\")\n",
    "                file.close()\n",
    "            print(\"finished a tuning\")"
   ]
  },
  {
   "cell_type": "code",
   "execution_count": null,
   "id": "38566062",
   "metadata": {
    "papermill": {
     "duration": 0.021071,
     "end_time": "2024-04-12T20:21:11.921575",
     "exception": false,
     "start_time": "2024-04-12T20:21:11.900504",
     "status": "completed"
    },
    "tags": []
   },
   "outputs": [],
   "source": []
  },
  {
   "cell_type": "code",
   "execution_count": null,
   "id": "f5ca457a",
   "metadata": {
    "papermill": {
     "duration": 0.019622,
     "end_time": "2024-04-12T20:21:11.961178",
     "exception": false,
     "start_time": "2024-04-12T20:21:11.941556",
     "status": "completed"
    },
    "tags": []
   },
   "outputs": [],
   "source": []
  },
  {
   "cell_type": "code",
   "execution_count": null,
   "id": "93d85c43",
   "metadata": {
    "papermill": {
     "duration": 0.022547,
     "end_time": "2024-04-12T20:21:12.004137",
     "exception": false,
     "start_time": "2024-04-12T20:21:11.981590",
     "status": "completed"
    },
    "tags": []
   },
   "outputs": [],
   "source": []
  },
  {
   "cell_type": "code",
   "execution_count": null,
   "id": "41f68205",
   "metadata": {
    "papermill": {
     "duration": 0.019918,
     "end_time": "2024-04-12T20:21:12.044310",
     "exception": false,
     "start_time": "2024-04-12T20:21:12.024392",
     "status": "completed"
    },
    "tags": []
   },
   "outputs": [],
   "source": []
  },
  {
   "cell_type": "code",
   "execution_count": null,
   "id": "192cd2a5",
   "metadata": {
    "papermill": {
     "duration": 0.019987,
     "end_time": "2024-04-12T20:21:12.084362",
     "exception": false,
     "start_time": "2024-04-12T20:21:12.064375",
     "status": "completed"
    },
    "tags": []
   },
   "outputs": [],
   "source": []
  },
  {
   "cell_type": "code",
   "execution_count": null,
   "id": "4a726714",
   "metadata": {
    "papermill": {
     "duration": 0.019981,
     "end_time": "2024-04-12T20:21:12.124464",
     "exception": false,
     "start_time": "2024-04-12T20:21:12.104483",
     "status": "completed"
    },
    "tags": []
   },
   "outputs": [],
   "source": []
  },
  {
   "cell_type": "code",
   "execution_count": null,
   "id": "f40400e6",
   "metadata": {
    "papermill": {
     "duration": 0.023444,
     "end_time": "2024-04-12T20:21:12.169626",
     "exception": false,
     "start_time": "2024-04-12T20:21:12.146182",
     "status": "completed"
    },
    "tags": []
   },
   "outputs": [],
   "source": []
  },
  {
   "cell_type": "code",
   "execution_count": null,
   "id": "3333b4c0",
   "metadata": {
    "papermill": {
     "duration": 0.024949,
     "end_time": "2024-04-12T20:21:12.219215",
     "exception": false,
     "start_time": "2024-04-12T20:21:12.194266",
     "status": "completed"
    },
    "tags": []
   },
   "outputs": [],
   "source": []
  },
  {
   "cell_type": "code",
   "execution_count": null,
   "id": "e2c72625",
   "metadata": {
    "papermill": {
     "duration": 0.018968,
     "end_time": "2024-04-12T20:21:12.260867",
     "exception": false,
     "start_time": "2024-04-12T20:21:12.241899",
     "status": "completed"
    },
    "tags": []
   },
   "outputs": [],
   "source": []
  },
  {
   "cell_type": "code",
   "execution_count": null,
   "id": "6ea5dbbc",
   "metadata": {
    "papermill": {
     "duration": 0.01868,
     "end_time": "2024-04-12T20:21:12.298266",
     "exception": false,
     "start_time": "2024-04-12T20:21:12.279586",
     "status": "completed"
    },
    "tags": []
   },
   "outputs": [],
   "source": []
  },
  {
   "cell_type": "code",
   "execution_count": null,
   "id": "4f92d46d",
   "metadata": {
    "papermill": {
     "duration": 0.018902,
     "end_time": "2024-04-12T20:21:12.336114",
     "exception": false,
     "start_time": "2024-04-12T20:21:12.317212",
     "status": "completed"
    },
    "tags": []
   },
   "outputs": [],
   "source": []
  },
  {
   "cell_type": "code",
   "execution_count": null,
   "id": "29632c89",
   "metadata": {
    "papermill": {
     "duration": 0.019534,
     "end_time": "2024-04-12T20:21:12.375227",
     "exception": false,
     "start_time": "2024-04-12T20:21:12.355693",
     "status": "completed"
    },
    "tags": []
   },
   "outputs": [],
   "source": []
  },
  {
   "cell_type": "code",
   "execution_count": null,
   "id": "bd624bb9",
   "metadata": {
    "papermill": {
     "duration": 0.019636,
     "end_time": "2024-04-12T20:21:12.414895",
     "exception": false,
     "start_time": "2024-04-12T20:21:12.395259",
     "status": "completed"
    },
    "tags": []
   },
   "outputs": [],
   "source": []
  },
  {
   "cell_type": "code",
   "execution_count": null,
   "id": "4dd455a2",
   "metadata": {
    "papermill": {
     "duration": 0.019195,
     "end_time": "2024-04-12T20:21:12.453898",
     "exception": false,
     "start_time": "2024-04-12T20:21:12.434703",
     "status": "completed"
    },
    "tags": []
   },
   "outputs": [],
   "source": [
    "\n"
   ]
  },
  {
   "cell_type": "code",
   "execution_count": null,
   "id": "7214ac6a",
   "metadata": {
    "papermill": {
     "duration": 0.019548,
     "end_time": "2024-04-12T20:21:12.492960",
     "exception": false,
     "start_time": "2024-04-12T20:21:12.473412",
     "status": "completed"
    },
    "tags": []
   },
   "outputs": [],
   "source": []
  }
 ],
 "metadata": {
  "colab": {
   "provenance": []
  },
  "kaggle": {
   "accelerator": "nvidiaTeslaT4",
   "dataSources": [
    {
     "datasetId": 4740955,
     "sourceId": 8096355,
     "sourceType": "datasetVersion"
    }
   ],
   "dockerImageVersionId": 30673,
   "isGpuEnabled": true,
   "isInternetEnabled": true,
   "language": "python",
   "sourceType": "notebook"
  },
  "kernelspec": {
   "display_name": "Python 3",
   "language": "python",
   "name": "python3"
  },
  "language_info": {
   "codemirror_mode": {
    "name": "ipython",
    "version": 3
   },
   "file_extension": ".py",
   "mimetype": "text/x-python",
   "name": "python",
   "nbconvert_exporter": "python",
   "pygments_lexer": "ipython3",
   "version": "3.10.13"
  },
  "papermill": {
   "default_parameters": {},
   "duration": 4481.27602,
   "end_time": "2024-04-12T20:21:16.377910",
   "environment_variables": {},
   "exception": null,
   "input_path": "__notebook__.ipynb",
   "output_path": "__notebook__.ipynb",
   "parameters": {},
   "start_time": "2024-04-12T19:06:35.101890",
   "version": "2.5.0"
  },
  "widgets": {
   "application/vnd.jupyter.widget-state+json": {
    "state": {
     "019c654baa5e482d8e8ad561dcc41c6a": {
      "model_module": "@jupyter-widgets/controls",
      "model_module_version": "1.5.0",
      "model_name": "HTMLModel",
      "state": {
       "_dom_classes": [],
       "_model_module": "@jupyter-widgets/controls",
       "_model_module_version": "1.5.0",
       "_model_name": "HTMLModel",
       "_view_count": null,
       "_view_module": "@jupyter-widgets/controls",
       "_view_module_version": "1.5.0",
       "_view_name": "HTMLView",
       "description": "",
       "description_tooltip": null,
       "layout": "IPY_MODEL_b10737c7a9fa4544a2ebf4e0db70b098",
       "placeholder": "​",
       "style": "IPY_MODEL_83a2b1985d1145b7b8ecb33cb1b6f2e4",
       "value": "model.safetensors: 100%"
      }
     },
     "0907511ae17d44278e69f3f1848e8451": {
      "model_module": "@jupyter-widgets/base",
      "model_module_version": "1.2.0",
      "model_name": "LayoutModel",
      "state": {
       "_model_module": "@jupyter-widgets/base",
       "_model_module_version": "1.2.0",
       "_model_name": "LayoutModel",
       "_view_count": null,
       "_view_module": "@jupyter-widgets/base",
       "_view_module_version": "1.2.0",
       "_view_name": "LayoutView",
       "align_content": null,
       "align_items": null,
       "align_self": null,
       "border": null,
       "bottom": null,
       "display": null,
       "flex": null,
       "flex_flow": null,
       "grid_area": null,
       "grid_auto_columns": null,
       "grid_auto_flow": null,
       "grid_auto_rows": null,
       "grid_column": null,
       "grid_gap": null,
       "grid_row": null,
       "grid_template_areas": null,
       "grid_template_columns": null,
       "grid_template_rows": null,
       "height": null,
       "justify_content": null,
       "justify_items": null,
       "left": null,
       "margin": null,
       "max_height": null,
       "max_width": null,
       "min_height": null,
       "min_width": null,
       "object_fit": null,
       "object_position": null,
       "order": null,
       "overflow": null,
       "overflow_x": null,
       "overflow_y": null,
       "padding": null,
       "right": null,
       "top": null,
       "visibility": null,
       "width": null
      }
     },
     "0bbe09cd05af4fc39cab69120252a74f": {
      "model_module": "@jupyter-widgets/base",
      "model_module_version": "1.2.0",
      "model_name": "LayoutModel",
      "state": {
       "_model_module": "@jupyter-widgets/base",
       "_model_module_version": "1.2.0",
       "_model_name": "LayoutModel",
       "_view_count": null,
       "_view_module": "@jupyter-widgets/base",
       "_view_module_version": "1.2.0",
       "_view_name": "LayoutView",
       "align_content": null,
       "align_items": null,
       "align_self": null,
       "border": null,
       "bottom": null,
       "display": null,
       "flex": null,
       "flex_flow": null,
       "grid_area": null,
       "grid_auto_columns": null,
       "grid_auto_flow": null,
       "grid_auto_rows": null,
       "grid_column": null,
       "grid_gap": null,
       "grid_row": null,
       "grid_template_areas": null,
       "grid_template_columns": null,
       "grid_template_rows": null,
       "height": null,
       "justify_content": null,
       "justify_items": null,
       "left": null,
       "margin": null,
       "max_height": null,
       "max_width": null,
       "min_height": null,
       "min_width": null,
       "object_fit": null,
       "object_position": null,
       "order": null,
       "overflow": null,
       "overflow_x": null,
       "overflow_y": null,
       "padding": null,
       "right": null,
       "top": null,
       "visibility": null,
       "width": null
      }
     },
     "0cabc9b9343b4c2798c652468b2d68cd": {
      "model_module": "@jupyter-widgets/base",
      "model_module_version": "1.2.0",
      "model_name": "LayoutModel",
      "state": {
       "_model_module": "@jupyter-widgets/base",
       "_model_module_version": "1.2.0",
       "_model_name": "LayoutModel",
       "_view_count": null,
       "_view_module": "@jupyter-widgets/base",
       "_view_module_version": "1.2.0",
       "_view_name": "LayoutView",
       "align_content": null,
       "align_items": null,
       "align_self": null,
       "border": null,
       "bottom": null,
       "display": null,
       "flex": null,
       "flex_flow": null,
       "grid_area": null,
       "grid_auto_columns": null,
       "grid_auto_flow": null,
       "grid_auto_rows": null,
       "grid_column": null,
       "grid_gap": null,
       "grid_row": null,
       "grid_template_areas": null,
       "grid_template_columns": null,
       "grid_template_rows": null,
       "height": null,
       "justify_content": null,
       "justify_items": null,
       "left": null,
       "margin": null,
       "max_height": null,
       "max_width": null,
       "min_height": null,
       "min_width": null,
       "object_fit": null,
       "object_position": null,
       "order": null,
       "overflow": null,
       "overflow_x": null,
       "overflow_y": null,
       "padding": null,
       "right": null,
       "top": null,
       "visibility": null,
       "width": null
      }
     },
     "170064efaa4f49c9a0e6f39947b73d4c": {
      "model_module": "@jupyter-widgets/controls",
      "model_module_version": "1.5.0",
      "model_name": "HTMLModel",
      "state": {
       "_dom_classes": [],
       "_model_module": "@jupyter-widgets/controls",
       "_model_module_version": "1.5.0",
       "_model_name": "HTMLModel",
       "_view_count": null,
       "_view_module": "@jupyter-widgets/controls",
       "_view_module_version": "1.5.0",
       "_view_name": "HTMLView",
       "description": "",
       "description_tooltip": null,
       "layout": "IPY_MODEL_8ab674f067cc47ab9637c69d62ef908c",
       "placeholder": "​",
       "style": "IPY_MODEL_21c7c20980b94666bd8156710d145084",
       "value": "100%"
      }
     },
     "1739b7e3ba0f49809d1225946f11e881": {
      "model_module": "@jupyter-widgets/controls",
      "model_module_version": "1.5.0",
      "model_name": "HTMLModel",
      "state": {
       "_dom_classes": [],
       "_model_module": "@jupyter-widgets/controls",
       "_model_module_version": "1.5.0",
       "_model_name": "HTMLModel",
       "_view_count": null,
       "_view_module": "@jupyter-widgets/controls",
       "_view_module_version": "1.5.0",
       "_view_name": "HTMLView",
       "description": "",
       "description_tooltip": null,
       "layout": "IPY_MODEL_0bbe09cd05af4fc39cab69120252a74f",
       "placeholder": "​",
       "style": "IPY_MODEL_776ba25a86584d549310a078801e1ebb",
       "value": " 69.8M/69.8M [00:00&lt;00:00, 99.6MB/s]"
      }
     },
     "1c305785db984b248034eea083c99493": {
      "model_module": "@jupyter-widgets/controls",
      "model_module_version": "1.5.0",
      "model_name": "HBoxModel",
      "state": {
       "_dom_classes": [],
       "_model_module": "@jupyter-widgets/controls",
       "_model_module_version": "1.5.0",
       "_model_name": "HBoxModel",
       "_view_count": null,
       "_view_module": "@jupyter-widgets/controls",
       "_view_module_version": "1.5.0",
       "_view_name": "HBoxView",
       "box_style": "",
       "children": [
        "IPY_MODEL_019c654baa5e482d8e8ad561dcc41c6a",
        "IPY_MODEL_1ef4e33ff7944889b83f603d34b723dd",
        "IPY_MODEL_1739b7e3ba0f49809d1225946f11e881"
       ],
       "layout": "IPY_MODEL_dacfec2a416949888e4f0726440c7bf8"
      }
     },
     "1ef4e33ff7944889b83f603d34b723dd": {
      "model_module": "@jupyter-widgets/controls",
      "model_module_version": "1.5.0",
      "model_name": "FloatProgressModel",
      "state": {
       "_dom_classes": [],
       "_model_module": "@jupyter-widgets/controls",
       "_model_module_version": "1.5.0",
       "_model_name": "FloatProgressModel",
       "_view_count": null,
       "_view_module": "@jupyter-widgets/controls",
       "_view_module_version": "1.5.0",
       "_view_name": "ProgressView",
       "bar_style": "success",
       "description": "",
       "description_tooltip": null,
       "layout": "IPY_MODEL_3f007c8ff1da4cd3a80ec13c7d4ea3fd",
       "max": 69755128,
       "min": 0,
       "orientation": "horizontal",
       "style": "IPY_MODEL_3bacfaeb3bce4e90b6ff50762abb1c3e",
       "value": 69755128
      }
     },
     "21c7c20980b94666bd8156710d145084": {
      "model_module": "@jupyter-widgets/controls",
      "model_module_version": "1.5.0",
      "model_name": "DescriptionStyleModel",
      "state": {
       "_model_module": "@jupyter-widgets/controls",
       "_model_module_version": "1.5.0",
       "_model_name": "DescriptionStyleModel",
       "_view_count": null,
       "_view_module": "@jupyter-widgets/base",
       "_view_module_version": "1.2.0",
       "_view_name": "StyleView",
       "description_width": ""
      }
     },
     "271f48780ec2485c9569a1dd8a2a3739": {
      "model_module": "@jupyter-widgets/controls",
      "model_module_version": "1.5.0",
      "model_name": "HBoxModel",
      "state": {
       "_dom_classes": [],
       "_model_module": "@jupyter-widgets/controls",
       "_model_module_version": "1.5.0",
       "_model_name": "HBoxModel",
       "_view_count": null,
       "_view_module": "@jupyter-widgets/controls",
       "_view_module_version": "1.5.0",
       "_view_name": "HBoxView",
       "box_style": "",
       "children": [
        "IPY_MODEL_170064efaa4f49c9a0e6f39947b73d4c",
        "IPY_MODEL_d60e290dd1304b09a5b8344412efcfd8",
        "IPY_MODEL_6b2c1269051f4a3694baa36fffe52650"
       ],
       "layout": "IPY_MODEL_47f8811ae2f3480985185e6e32f0dabe"
      }
     },
     "31c9b5a8fe6e4cfc8e4dde0b6305778b": {
      "model_module": "@jupyter-widgets/controls",
      "model_module_version": "1.5.0",
      "model_name": "DescriptionStyleModel",
      "state": {
       "_model_module": "@jupyter-widgets/controls",
       "_model_module_version": "1.5.0",
       "_model_name": "DescriptionStyleModel",
       "_view_count": null,
       "_view_module": "@jupyter-widgets/base",
       "_view_module_version": "1.2.0",
       "_view_name": "StyleView",
       "description_width": ""
      }
     },
     "3b1dd0030b51417aa514cda46a8054a8": {
      "model_module": "@jupyter-widgets/base",
      "model_module_version": "1.2.0",
      "model_name": "LayoutModel",
      "state": {
       "_model_module": "@jupyter-widgets/base",
       "_model_module_version": "1.2.0",
       "_model_name": "LayoutModel",
       "_view_count": null,
       "_view_module": "@jupyter-widgets/base",
       "_view_module_version": "1.2.0",
       "_view_name": "LayoutView",
       "align_content": null,
       "align_items": null,
       "align_self": null,
       "border": null,
       "bottom": null,
       "display": null,
       "flex": null,
       "flex_flow": null,
       "grid_area": null,
       "grid_auto_columns": null,
       "grid_auto_flow": null,
       "grid_auto_rows": null,
       "grid_column": null,
       "grid_gap": null,
       "grid_row": null,
       "grid_template_areas": null,
       "grid_template_columns": null,
       "grid_template_rows": null,
       "height": null,
       "justify_content": null,
       "justify_items": null,
       "left": null,
       "margin": null,
       "max_height": null,
       "max_width": null,
       "min_height": null,
       "min_width": null,
       "object_fit": null,
       "object_position": null,
       "order": null,
       "overflow": null,
       "overflow_x": null,
       "overflow_y": null,
       "padding": null,
       "right": null,
       "top": null,
       "visibility": null,
       "width": null
      }
     },
     "3bacfaeb3bce4e90b6ff50762abb1c3e": {
      "model_module": "@jupyter-widgets/controls",
      "model_module_version": "1.5.0",
      "model_name": "ProgressStyleModel",
      "state": {
       "_model_module": "@jupyter-widgets/controls",
       "_model_module_version": "1.5.0",
       "_model_name": "ProgressStyleModel",
       "_view_count": null,
       "_view_module": "@jupyter-widgets/base",
       "_view_module_version": "1.2.0",
       "_view_name": "StyleView",
       "bar_color": null,
       "description_width": ""
      }
     },
     "3c61e9010ea74417b5528fb622e2f719": {
      "model_module": "@jupyter-widgets/controls",
      "model_module_version": "1.5.0",
      "model_name": "HTMLModel",
      "state": {
       "_dom_classes": [],
       "_model_module": "@jupyter-widgets/controls",
       "_model_module_version": "1.5.0",
       "_model_name": "HTMLModel",
       "_view_count": null,
       "_view_module": "@jupyter-widgets/controls",
       "_view_module_version": "1.5.0",
       "_view_name": "HTMLView",
       "description": "",
       "description_tooltip": null,
       "layout": "IPY_MODEL_a183a9d365d645a6a20166e97043c925",
       "placeholder": "​",
       "style": "IPY_MODEL_31c9b5a8fe6e4cfc8e4dde0b6305778b",
       "value": " 634/634 [00:00&lt;00:00, 47.9kB/s]"
      }
     },
     "3f007c8ff1da4cd3a80ec13c7d4ea3fd": {
      "model_module": "@jupyter-widgets/base",
      "model_module_version": "1.2.0",
      "model_name": "LayoutModel",
      "state": {
       "_model_module": "@jupyter-widgets/base",
       "_model_module_version": "1.2.0",
       "_model_name": "LayoutModel",
       "_view_count": null,
       "_view_module": "@jupyter-widgets/base",
       "_view_module_version": "1.2.0",
       "_view_name": "LayoutView",
       "align_content": null,
       "align_items": null,
       "align_self": null,
       "border": null,
       "bottom": null,
       "display": null,
       "flex": null,
       "flex_flow": null,
       "grid_area": null,
       "grid_auto_columns": null,
       "grid_auto_flow": null,
       "grid_auto_rows": null,
       "grid_column": null,
       "grid_gap": null,
       "grid_row": null,
       "grid_template_areas": null,
       "grid_template_columns": null,
       "grid_template_rows": null,
       "height": null,
       "justify_content": null,
       "justify_items": null,
       "left": null,
       "margin": null,
       "max_height": null,
       "max_width": null,
       "min_height": null,
       "min_width": null,
       "object_fit": null,
       "object_position": null,
       "order": null,
       "overflow": null,
       "overflow_x": null,
       "overflow_y": null,
       "padding": null,
       "right": null,
       "top": null,
       "visibility": null,
       "width": null
      }
     },
     "4020387bf7294e229c0df3c529873357": {
      "model_module": "@jupyter-widgets/controls",
      "model_module_version": "1.5.0",
      "model_name": "DescriptionStyleModel",
      "state": {
       "_model_module": "@jupyter-widgets/controls",
       "_model_module_version": "1.5.0",
       "_model_name": "DescriptionStyleModel",
       "_view_count": null,
       "_view_module": "@jupyter-widgets/base",
       "_view_module_version": "1.2.0",
       "_view_name": "StyleView",
       "description_width": ""
      }
     },
     "47f8811ae2f3480985185e6e32f0dabe": {
      "model_module": "@jupyter-widgets/base",
      "model_module_version": "1.2.0",
      "model_name": "LayoutModel",
      "state": {
       "_model_module": "@jupyter-widgets/base",
       "_model_module_version": "1.2.0",
       "_model_name": "LayoutModel",
       "_view_count": null,
       "_view_module": "@jupyter-widgets/base",
       "_view_module_version": "1.2.0",
       "_view_name": "LayoutView",
       "align_content": null,
       "align_items": null,
       "align_self": null,
       "border": null,
       "bottom": null,
       "display": null,
       "flex": null,
       "flex_flow": null,
       "grid_area": null,
       "grid_auto_columns": null,
       "grid_auto_flow": null,
       "grid_auto_rows": null,
       "grid_column": null,
       "grid_gap": null,
       "grid_row": null,
       "grid_template_areas": null,
       "grid_template_columns": null,
       "grid_template_rows": null,
       "height": null,
       "justify_content": null,
       "justify_items": null,
       "left": null,
       "margin": null,
       "max_height": null,
       "max_width": null,
       "min_height": null,
       "min_width": null,
       "object_fit": null,
       "object_position": null,
       "order": null,
       "overflow": null,
       "overflow_x": null,
       "overflow_y": null,
       "padding": null,
       "right": null,
       "top": null,
       "visibility": null,
       "width": null
      }
     },
     "4ba19a0a9bc9486ab9bf59115fdfcd8a": {
      "model_module": "@jupyter-widgets/controls",
      "model_module_version": "1.5.0",
      "model_name": "DescriptionStyleModel",
      "state": {
       "_model_module": "@jupyter-widgets/controls",
       "_model_module_version": "1.5.0",
       "_model_name": "DescriptionStyleModel",
       "_view_count": null,
       "_view_module": "@jupyter-widgets/base",
       "_view_module_version": "1.2.0",
       "_view_name": "StyleView",
       "description_width": ""
      }
     },
     "5fb08e003f604e9dacb03ac4bb0d93a1": {
      "model_module": "@jupyter-widgets/controls",
      "model_module_version": "1.5.0",
      "model_name": "FloatProgressModel",
      "state": {
       "_dom_classes": [],
       "_model_module": "@jupyter-widgets/controls",
       "_model_module_version": "1.5.0",
       "_model_name": "FloatProgressModel",
       "_view_count": null,
       "_view_module": "@jupyter-widgets/controls",
       "_view_module_version": "1.5.0",
       "_view_name": "ProgressView",
       "bar_style": "success",
       "description": "",
       "description_tooltip": null,
       "layout": "IPY_MODEL_0cabc9b9343b4c2798c652468b2d68cd",
       "max": 634,
       "min": 0,
       "orientation": "horizontal",
       "style": "IPY_MODEL_7d7631397db84157b15fa81ab15e9574",
       "value": 634
      }
     },
     "6b2c1269051f4a3694baa36fffe52650": {
      "model_module": "@jupyter-widgets/controls",
      "model_module_version": "1.5.0",
      "model_name": "HTMLModel",
      "state": {
       "_dom_classes": [],
       "_model_module": "@jupyter-widgets/controls",
       "_model_module_version": "1.5.0",
       "_model_name": "HTMLModel",
       "_view_count": null,
       "_view_module": "@jupyter-widgets/controls",
       "_view_module_version": "1.5.0",
       "_view_name": "HTMLView",
       "description": "",
       "description_tooltip": null,
       "layout": "IPY_MODEL_0907511ae17d44278e69f3f1848e8451",
       "placeholder": "​",
       "style": "IPY_MODEL_4ba19a0a9bc9486ab9bf59115fdfcd8a",
       "value": " 57/57 [00:17&lt;00:00,  3.43ba/s]"
      }
     },
     "776ba25a86584d549310a078801e1ebb": {
      "model_module": "@jupyter-widgets/controls",
      "model_module_version": "1.5.0",
      "model_name": "DescriptionStyleModel",
      "state": {
       "_model_module": "@jupyter-widgets/controls",
       "_model_module_version": "1.5.0",
       "_model_name": "DescriptionStyleModel",
       "_view_count": null,
       "_view_module": "@jupyter-widgets/base",
       "_view_module_version": "1.2.0",
       "_view_name": "StyleView",
       "description_width": ""
      }
     },
     "7d7631397db84157b15fa81ab15e9574": {
      "model_module": "@jupyter-widgets/controls",
      "model_module_version": "1.5.0",
      "model_name": "ProgressStyleModel",
      "state": {
       "_model_module": "@jupyter-widgets/controls",
       "_model_module_version": "1.5.0",
       "_model_name": "ProgressStyleModel",
       "_view_count": null,
       "_view_module": "@jupyter-widgets/base",
       "_view_module_version": "1.2.0",
       "_view_name": "StyleView",
       "bar_color": null,
       "description_width": ""
      }
     },
     "83a2b1985d1145b7b8ecb33cb1b6f2e4": {
      "model_module": "@jupyter-widgets/controls",
      "model_module_version": "1.5.0",
      "model_name": "DescriptionStyleModel",
      "state": {
       "_model_module": "@jupyter-widgets/controls",
       "_model_module_version": "1.5.0",
       "_model_name": "DescriptionStyleModel",
       "_view_count": null,
       "_view_module": "@jupyter-widgets/base",
       "_view_module_version": "1.2.0",
       "_view_name": "StyleView",
       "description_width": ""
      }
     },
     "8ab674f067cc47ab9637c69d62ef908c": {
      "model_module": "@jupyter-widgets/base",
      "model_module_version": "1.2.0",
      "model_name": "LayoutModel",
      "state": {
       "_model_module": "@jupyter-widgets/base",
       "_model_module_version": "1.2.0",
       "_model_name": "LayoutModel",
       "_view_count": null,
       "_view_module": "@jupyter-widgets/base",
       "_view_module_version": "1.2.0",
       "_view_name": "LayoutView",
       "align_content": null,
       "align_items": null,
       "align_self": null,
       "border": null,
       "bottom": null,
       "display": null,
       "flex": null,
       "flex_flow": null,
       "grid_area": null,
       "grid_auto_columns": null,
       "grid_auto_flow": null,
       "grid_auto_rows": null,
       "grid_column": null,
       "grid_gap": null,
       "grid_row": null,
       "grid_template_areas": null,
       "grid_template_columns": null,
       "grid_template_rows": null,
       "height": null,
       "justify_content": null,
       "justify_items": null,
       "left": null,
       "margin": null,
       "max_height": null,
       "max_width": null,
       "min_height": null,
       "min_width": null,
       "object_fit": null,
       "object_position": null,
       "order": null,
       "overflow": null,
       "overflow_x": null,
       "overflow_y": null,
       "padding": null,
       "right": null,
       "top": null,
       "visibility": null,
       "width": null
      }
     },
     "a183a9d365d645a6a20166e97043c925": {
      "model_module": "@jupyter-widgets/base",
      "model_module_version": "1.2.0",
      "model_name": "LayoutModel",
      "state": {
       "_model_module": "@jupyter-widgets/base",
       "_model_module_version": "1.2.0",
       "_model_name": "LayoutModel",
       "_view_count": null,
       "_view_module": "@jupyter-widgets/base",
       "_view_module_version": "1.2.0",
       "_view_name": "LayoutView",
       "align_content": null,
       "align_items": null,
       "align_self": null,
       "border": null,
       "bottom": null,
       "display": null,
       "flex": null,
       "flex_flow": null,
       "grid_area": null,
       "grid_auto_columns": null,
       "grid_auto_flow": null,
       "grid_auto_rows": null,
       "grid_column": null,
       "grid_gap": null,
       "grid_row": null,
       "grid_template_areas": null,
       "grid_template_columns": null,
       "grid_template_rows": null,
       "height": null,
       "justify_content": null,
       "justify_items": null,
       "left": null,
       "margin": null,
       "max_height": null,
       "max_width": null,
       "min_height": null,
       "min_width": null,
       "object_fit": null,
       "object_position": null,
       "order": null,
       "overflow": null,
       "overflow_x": null,
       "overflow_y": null,
       "padding": null,
       "right": null,
       "top": null,
       "visibility": null,
       "width": null
      }
     },
     "a6c9ad586c6f4d36ab56a98d6c93709d": {
      "model_module": "@jupyter-widgets/base",
      "model_module_version": "1.2.0",
      "model_name": "LayoutModel",
      "state": {
       "_model_module": "@jupyter-widgets/base",
       "_model_module_version": "1.2.0",
       "_model_name": "LayoutModel",
       "_view_count": null,
       "_view_module": "@jupyter-widgets/base",
       "_view_module_version": "1.2.0",
       "_view_name": "LayoutView",
       "align_content": null,
       "align_items": null,
       "align_self": null,
       "border": null,
       "bottom": null,
       "display": null,
       "flex": null,
       "flex_flow": null,
       "grid_area": null,
       "grid_auto_columns": null,
       "grid_auto_flow": null,
       "grid_auto_rows": null,
       "grid_column": null,
       "grid_gap": null,
       "grid_row": null,
       "grid_template_areas": null,
       "grid_template_columns": null,
       "grid_template_rows": null,
       "height": null,
       "justify_content": null,
       "justify_items": null,
       "left": null,
       "margin": null,
       "max_height": null,
       "max_width": null,
       "min_height": null,
       "min_width": null,
       "object_fit": null,
       "object_position": null,
       "order": null,
       "overflow": null,
       "overflow_x": null,
       "overflow_y": null,
       "padding": null,
       "right": null,
       "top": null,
       "visibility": null,
       "width": null
      }
     },
     "b10737c7a9fa4544a2ebf4e0db70b098": {
      "model_module": "@jupyter-widgets/base",
      "model_module_version": "1.2.0",
      "model_name": "LayoutModel",
      "state": {
       "_model_module": "@jupyter-widgets/base",
       "_model_module_version": "1.2.0",
       "_model_name": "LayoutModel",
       "_view_count": null,
       "_view_module": "@jupyter-widgets/base",
       "_view_module_version": "1.2.0",
       "_view_name": "LayoutView",
       "align_content": null,
       "align_items": null,
       "align_self": null,
       "border": null,
       "bottom": null,
       "display": null,
       "flex": null,
       "flex_flow": null,
       "grid_area": null,
       "grid_auto_columns": null,
       "grid_auto_flow": null,
       "grid_auto_rows": null,
       "grid_column": null,
       "grid_gap": null,
       "grid_row": null,
       "grid_template_areas": null,
       "grid_template_columns": null,
       "grid_template_rows": null,
       "height": null,
       "justify_content": null,
       "justify_items": null,
       "left": null,
       "margin": null,
       "max_height": null,
       "max_width": null,
       "min_height": null,
       "min_width": null,
       "object_fit": null,
       "object_position": null,
       "order": null,
       "overflow": null,
       "overflow_x": null,
       "overflow_y": null,
       "padding": null,
       "right": null,
       "top": null,
       "visibility": null,
       "width": null
      }
     },
     "d60e290dd1304b09a5b8344412efcfd8": {
      "model_module": "@jupyter-widgets/controls",
      "model_module_version": "1.5.0",
      "model_name": "FloatProgressModel",
      "state": {
       "_dom_classes": [],
       "_model_module": "@jupyter-widgets/controls",
       "_model_module_version": "1.5.0",
       "_model_name": "FloatProgressModel",
       "_view_count": null,
       "_view_module": "@jupyter-widgets/controls",
       "_view_module_version": "1.5.0",
       "_view_name": "ProgressView",
       "bar_style": "success",
       "description": "",
       "description_tooltip": null,
       "layout": "IPY_MODEL_a6c9ad586c6f4d36ab56a98d6c93709d",
       "max": 57,
       "min": 0,
       "orientation": "horizontal",
       "style": "IPY_MODEL_d8b19a58252e47f5a7d0ad3ebf427d76",
       "value": 57
      }
     },
     "d8b19a58252e47f5a7d0ad3ebf427d76": {
      "model_module": "@jupyter-widgets/controls",
      "model_module_version": "1.5.0",
      "model_name": "ProgressStyleModel",
      "state": {
       "_model_module": "@jupyter-widgets/controls",
       "_model_module_version": "1.5.0",
       "_model_name": "ProgressStyleModel",
       "_view_count": null,
       "_view_module": "@jupyter-widgets/base",
       "_view_module_version": "1.2.0",
       "_view_name": "StyleView",
       "bar_color": null,
       "description_width": ""
      }
     },
     "dacfec2a416949888e4f0726440c7bf8": {
      "model_module": "@jupyter-widgets/base",
      "model_module_version": "1.2.0",
      "model_name": "LayoutModel",
      "state": {
       "_model_module": "@jupyter-widgets/base",
       "_model_module_version": "1.2.0",
       "_model_name": "LayoutModel",
       "_view_count": null,
       "_view_module": "@jupyter-widgets/base",
       "_view_module_version": "1.2.0",
       "_view_name": "LayoutView",
       "align_content": null,
       "align_items": null,
       "align_self": null,
       "border": null,
       "bottom": null,
       "display": null,
       "flex": null,
       "flex_flow": null,
       "grid_area": null,
       "grid_auto_columns": null,
       "grid_auto_flow": null,
       "grid_auto_rows": null,
       "grid_column": null,
       "grid_gap": null,
       "grid_row": null,
       "grid_template_areas": null,
       "grid_template_columns": null,
       "grid_template_rows": null,
       "height": null,
       "justify_content": null,
       "justify_items": null,
       "left": null,
       "margin": null,
       "max_height": null,
       "max_width": null,
       "min_height": null,
       "min_width": null,
       "object_fit": null,
       "object_position": null,
       "order": null,
       "overflow": null,
       "overflow_x": null,
       "overflow_y": null,
       "padding": null,
       "right": null,
       "top": null,
       "visibility": null,
       "width": null
      }
     },
     "e524ef9520cc44cca908e4cf361f22a9": {
      "model_module": "@jupyter-widgets/controls",
      "model_module_version": "1.5.0",
      "model_name": "HTMLModel",
      "state": {
       "_dom_classes": [],
       "_model_module": "@jupyter-widgets/controls",
       "_model_module_version": "1.5.0",
       "_model_name": "HTMLModel",
       "_view_count": null,
       "_view_module": "@jupyter-widgets/controls",
       "_view_module_version": "1.5.0",
       "_view_name": "HTMLView",
       "description": "",
       "description_tooltip": null,
       "layout": "IPY_MODEL_fb29be8a83e04ee7b9fd4aadbd730c7e",
       "placeholder": "​",
       "style": "IPY_MODEL_4020387bf7294e229c0df3c529873357",
       "value": "config.json: 100%"
      }
     },
     "ec12155143654561b572a2417fe6102b": {
      "model_module": "@jupyter-widgets/controls",
      "model_module_version": "1.5.0",
      "model_name": "HBoxModel",
      "state": {
       "_dom_classes": [],
       "_model_module": "@jupyter-widgets/controls",
       "_model_module_version": "1.5.0",
       "_model_name": "HBoxModel",
       "_view_count": null,
       "_view_module": "@jupyter-widgets/controls",
       "_view_module_version": "1.5.0",
       "_view_name": "HBoxView",
       "box_style": "",
       "children": [
        "IPY_MODEL_e524ef9520cc44cca908e4cf361f22a9",
        "IPY_MODEL_5fb08e003f604e9dacb03ac4bb0d93a1",
        "IPY_MODEL_3c61e9010ea74417b5528fb622e2f719"
       ],
       "layout": "IPY_MODEL_3b1dd0030b51417aa514cda46a8054a8"
      }
     },
     "fb29be8a83e04ee7b9fd4aadbd730c7e": {
      "model_module": "@jupyter-widgets/base",
      "model_module_version": "1.2.0",
      "model_name": "LayoutModel",
      "state": {
       "_model_module": "@jupyter-widgets/base",
       "_model_module_version": "1.2.0",
       "_model_name": "LayoutModel",
       "_view_count": null,
       "_view_module": "@jupyter-widgets/base",
       "_view_module_version": "1.2.0",
       "_view_name": "LayoutView",
       "align_content": null,
       "align_items": null,
       "align_self": null,
       "border": null,
       "bottom": null,
       "display": null,
       "flex": null,
       "flex_flow": null,
       "grid_area": null,
       "grid_auto_columns": null,
       "grid_auto_flow": null,
       "grid_auto_rows": null,
       "grid_column": null,
       "grid_gap": null,
       "grid_row": null,
       "grid_template_areas": null,
       "grid_template_columns": null,
       "grid_template_rows": null,
       "height": null,
       "justify_content": null,
       "justify_items": null,
       "left": null,
       "margin": null,
       "max_height": null,
       "max_width": null,
       "min_height": null,
       "min_width": null,
       "object_fit": null,
       "object_position": null,
       "order": null,
       "overflow": null,
       "overflow_x": null,
       "overflow_y": null,
       "padding": null,
       "right": null,
       "top": null,
       "visibility": null,
       "width": null
      }
     }
    },
    "version_major": 2,
    "version_minor": 0
   }
  }
 },
 "nbformat": 4,
 "nbformat_minor": 5
}
